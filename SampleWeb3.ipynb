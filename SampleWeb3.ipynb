{
 "cells": [
  {
   "cell_type": "code",
   "execution_count": null,
   "id": "4e42bd9d",
   "metadata": {},
   "outputs": [],
   "source": [
    "pip install web3"
   ]
  },
  {
   "cell_type": "code",
   "execution_count": null,
   "id": "4da419b9",
   "metadata": {},
   "outputs": [],
   "source": [
    "print(\"Hello\")"
   ]
  },
  {
   "cell_type": "code",
   "execution_count": null,
   "id": "ae5013b0",
   "metadata": {},
   "outputs": [],
   "source": [
    "print(\"Hello World\")"
   ]
  },
  {
   "cell_type": "code",
   "execution_count": null,
   "id": "b838d694",
   "metadata": {},
   "outputs": [],
   "source": [
    "# https://mainnet.infura.io/v3/86362a9ceb04491f985617daef9b9e29"
   ]
  },
  {
   "cell_type": "code",
   "execution_count": 1,
   "id": "3fbe1083",
   "metadata": {},
   "outputs": [
    {
     "name": "stdout",
     "output_type": "stream",
     "text": [
      "Latest block number: 18592872\n"
     ]
    }
   ],
   "source": [
    "from web3 import Web3\n",
    "\n",
    "# Your Infura project's URL\n",
    "infura_url = 'https://mainnet.infura.io/v3/86362a9ceb04491f985617daef9b9e29'\n",
    "\n",
    "# Connect to an Ethereum node using Infura\n",
    "w3 = Web3(Web3.HTTPProvider(infura_url))\n",
    "\n",
    "# Get the latest block number\n",
    "latest_block_number = w3.eth.block_number\n",
    "print(f\"Latest block number: {latest_block_number}\")\n"
   ]
  },
  {
   "cell_type": "code",
   "execution_count": 11,
   "id": "09e3209a",
   "metadata": {},
   "outputs": [
    {
     "name": "stdout",
     "output_type": "stream",
     "text": [
      "Block 1 Timestamp: 1700306387\n",
      "Block 2 Timestamp: 1700306399\n",
      "Block 3 Timestamp: 1700306411\n",
      "Block 4 Timestamp: 1700306423\n",
      "Block 5 Timestamp: 1700306435\n",
      "Block 6 Timestamp: 1700306447\n",
      "Block 7 Timestamp: 1700306459\n",
      "Block 8 Timestamp: 1700306471\n",
      "Block 9 Timestamp: 1700306483\n",
      "Block 10 Timestamp: 1700306495\n"
     ]
    }
   ],
   "source": [
    "from web3 import Web3\n",
    "import time\n",
    "\n",
    "w3 = Web3(Web3.HTTPProvider('https://mainnet.infura.io/v3/86362a9ceb04491f985617daef9b9e29'))\n",
    "\n",
    "blocks_count = 10  \n",
    "block_timestamps = []\n",
    "\n",
    "initial_block_number = w3.eth.block_number  # Get the current block number\n",
    "\n",
    "for i in range(blocks_count):\n",
    "    # Wait for the next block to be mined\n",
    "    while w3.eth.block_number <= initial_block_number + i:\n",
    "        time.sleep(1)  # Wait for 1 second before checking again\n",
    "    \n",
    "    \n",
    "    block = w3.eth.get_block('latest')\n",
    "    block_timestamps.append(block.timestamp)\n",
    "    print(f\"Block {i+1} Timestamp: {block.timestamp}\")\n"
   ]
  },
  {
   "cell_type": "code",
   "execution_count": 14,
   "id": "97de96b9",
   "metadata": {},
   "outputs": [
    {
     "data": {
      "image/png": "[encoded data removed]",
      "text/plain": [
       "<Figure size 432x288 with 1 Axes>"
      ]
     },
     "metadata": {
      "needs_background": "light"
     },
     "output_type": "display_data"
    }
   ],
   "source": [
    "import matplotlib.pyplot as plt\n",
    "import numpy as np\n",
    "\n",
    "# Assume block_timestamps contains timestamps fetched from the blockchain\n",
    "\n",
    "# Plot block timestamps using Matplotlib\n",
    "plt.plot(block_timestamps, marker='o')\n",
    "plt.title('Block Timestamps')\n",
    "plt.xlabel('Block Number')\n",
    "plt.ylabel('Timestamp')\n",
    "plt.grid(True)\n",
    "\n",
    "# Set the number of ticks for the y-axis (adjust the number as needed)\n",
    "num_ticks = 10\n",
    "plt.yticks(np.linspace(min(block_timestamps), max(block_timestamps), num_ticks))\n",
    "\n",
    "plt.show()\n"
   ]
  },
  {
   "cell_type": "code",
   "execution_count": null,
   "id": "25556bf5",
   "metadata": {},
   "outputs": [],
   "source": [
    "pip install --upgrade web3"
   ]
  }
 ],
 "metadata": {
  "kernelspec": {
   "display_name": "Python 3 (ipykernel)",
   "language": "python",
   "name": "python3"
  },
  "language_info": {
   "codemirror_mode": {
    "name": "ipython",
    "version": 3
   },
   "file_extension": ".py",
   "mimetype": "text/x-python",
   "name": "python",
   "nbconvert_exporter": "python",
   "pygments_lexer": "ipython3",
   "version": "3.9.7"
  }
 },
 "nbformat": 4,
 "nbformat_minor": 5
}
